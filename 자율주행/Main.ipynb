{
 "cells": [
  {
   "cell_type": "code",
   "execution_count": 5,
   "id": "d68bc200",
   "metadata": {},
   "outputs": [],
   "source": [
    "import Altino\n",
    "from Altino import*\n",
    "import keyboard\n",
    "import numpy as np\n",
    "from keras.models import load_model"
   ]
  },
  {
   "cell_type": "markdown",
   "metadata": {},
   "source": []
  },
  {
   "cell_type": "code",
   "execution_count": 7,
   "id": "ac4f8f68",
   "metadata": {},
   "outputs": [
    {
     "name": "stdout",
     "output_type": "stream",
     "text": [
      "Bluetooth connect\n"
     ]
    }
   ],
   "source": [
    "Open()"
   ]
  },
  {
   "cell_type": "code",
   "execution_count": 10,
   "id": "35c743e7",
   "metadata": {
    "scrolled": true
   },
   "outputs": [
    {
     "name": "stdout",
     "output_type": "stream",
     "text": [
      "Bluetooth connect\n"
     ]
    },
    {
     "ename": "KeyboardInterrupt",
     "evalue": "",
     "output_type": "error",
     "traceback": [
      "\u001b[1;31m---------------------------------------------------------------------------\u001b[0m",
      "\u001b[1;31mKeyboardInterrupt\u001b[0m                         Traceback (most recent call last)",
      "\u001b[1;32mc:\\Users\\SeongHun\\Desktop\\AI_Final\\Untitled.ipynb Cell 4\u001b[0m line \u001b[0;36m3\n\u001b[0;32m     <a href='vscode-notebook-cell:/c%3A/Users/SeongHun/Desktop/AI_Final/Untitled.ipynb#W3sZmlsZQ%3D%3D?line=34'>35</a>\u001b[0m         SDATA\u001b[39m.\u001b[39mappend(Ddata)\n\u001b[0;32m     <a href='vscode-notebook-cell:/c%3A/Users/SeongHun/Desktop/AI_Final/Untitled.ipynb#W3sZmlsZQ%3D%3D?line=35'>36</a>\u001b[0m     old_data\u001b[39m=\u001b[39m Ddata\n\u001b[1;32m---> <a href='vscode-notebook-cell:/c%3A/Users/SeongHun/Desktop/AI_Final/Untitled.ipynb#W3sZmlsZQ%3D%3D?line=36'>37</a>\u001b[0m     delay(\u001b[39m1\u001b[39m)\n\u001b[0;32m     <a href='vscode-notebook-cell:/c%3A/Users/SeongHun/Desktop/AI_Final/Untitled.ipynb#W3sZmlsZQ%3D%3D?line=37'>38</a>\u001b[0m Close()\n\u001b[0;32m     <a href='vscode-notebook-cell:/c%3A/Users/SeongHun/Desktop/AI_Final/Untitled.ipynb#W3sZmlsZQ%3D%3D?line=38'>39</a>\u001b[0m \u001b[39mwith\u001b[39;00m \u001b[39mopen\u001b[39m(\u001b[39m\"\u001b[39m\u001b[39mSdataL_1.csv\u001b[39m\u001b[39m\"\u001b[39m,\u001b[39m\"\u001b[39m\u001b[39mw\u001b[39m\u001b[39m\"\u001b[39m,newline\u001b[39m=\u001b[39m\u001b[39m\"\u001b[39m\u001b[39m\"\u001b[39m) \u001b[39mas\u001b[39;00m f:\n",
      "File \u001b[1;32mc:\\Users\\SeongHun\\Desktop\\AI_Final\\Altino.py:82\u001b[0m, in \u001b[0;36mdelay\u001b[1;34m(ms)\u001b[0m\n\u001b[0;32m     81\u001b[0m \u001b[39mdef\u001b[39;00m \u001b[39mdelay\u001b[39m(ms):\n\u001b[1;32m---> 82\u001b[0m     time\u001b[39m.\u001b[39msleep(ms\u001b[39m/\u001b[39m\u001b[39m1000\u001b[39m)\n",
      "\u001b[1;31mKeyboardInterrupt\u001b[0m: "
     ]
    }
   ],
   "source": [
    "Open()\n",
    "import csv\n",
    "SDATA=[]\n",
    "old_data= [0,0,0,0,0,0]\n",
    "speed = 300\n",
    "while 1:\n",
    "    Ddata = [0,0,0,0,0,0]#방향 바퀴속도 조향\n",
    "    #print(len(Ddata))q\n",
    "    Ddata[0:3]=sensor.IR[1:4]\n",
    "    \n",
    "\n",
    "    if keyboard.is_pressed(\"q\"):\n",
    "        break\n",
    "    elif keyboard.is_pressed(\"8\"):\n",
    "        Ddata[3:5]=[speed,speed]\n",
    "        Go(speed,speed)\n",
    "    elif keyboard.is_pressed(\"5\"):\n",
    "        Go(-speed,-speed)\n",
    "        Ddata[3:5]=[-speed,-speed]\n",
    "    else :\n",
    "        Go(0,0)\n",
    "        Ddata[3:5]=[0,0]\n",
    "        \n",
    "    if keyboard.is_pressed(\"4\"):\n",
    "        Steering(-127)\n",
    "        Ddata[5]= -127\n",
    "    elif keyboard.is_pressed(\"6\"):\n",
    "        Steering(127)\n",
    "        Ddata[5]= 127\n",
    "    else:\n",
    "        Steering(0)\n",
    "        Ddata[5]= 0\n",
    "    \n",
    "    if old_data!=Ddata:\n",
    "        SDATA.append(Ddata)\n",
    "    old_data= Ddata\n",
    "    delay(1)\n",
    "Close()\n",
    "with open(\"SdataL_1.csv\",\"w\",newline=\"\") as f:\n",
    "    writer = csv.writer(f)\n",
    "    writer.writerows(SDATA)"
   ]
  },
  {
   "cell_type": "code",
   "execution_count": 18,
   "id": "89a01abf",
   "metadata": {},
   "outputs": [
    {
     "name": "stdout",
     "output_type": "stream",
     "text": [
      "Bluetooth connect\n",
      "Bluetooth disconnect\n"
     ]
    }
   ],
   "source": [
    "S_model = load_model('Steer_R.h5')\n",
    "F_model = load_model('Foward_R.h5')\n",
    "#print(S_model.predict(np.array([[0, 0, 50]])))\n",
    "Open()\n",
    "num = 1\n",
    "result = 0\n",
    "while 1: \n",
    "    \n",
    "    if keyboard.is_pressed(\"q\"):\n",
    "        break\n",
    "    S_result = S_model.predict(np.array([[sensor.IR[1], sensor.IR[2], sensor.IR[3]]]),verbose=0) \n",
    "    F_result = F_model.predict(np.array([[sensor.IR[1], sensor.IR[2], sensor.IR[3]]]),verbose=0) \n",
    "    S_result = int(np.rint(S_result) * 125)\n",
    "    F_result = int(np.rint(F_result) * 300)\n",
    "    if abs(S_result)>125:\n",
    "        S_result=int((S_result/abs(S_result))*125)\n",
    "    if abs(F_result)>300:\n",
    "        F_result=int((F_result/abs(F_result))*300)\n",
    "\n",
    "\n",
    "    Steering(S_result)\n",
    "    Go(F_result,F_result)\n",
    "    delay(100)\n",
    "Close()"
   ]
  },
  {
   "cell_type": "code",
   "execution_count": 17,
   "id": "2c1ff465",
   "metadata": {},
   "outputs": [
    {
     "name": "stdout",
     "output_type": "stream",
     "text": [
      "Bluetooth disconnect\n"
     ]
    }
   ],
   "source": [
    "Close()"
   ]
  }
 ],
 "metadata": {
  "kernelspec": {
   "display_name": "Python 3 (ipykernel)",
   "language": "python",
   "name": "python3"
  },
  "language_info": {
   "codemirror_mode": {
    "name": "ipython",
    "version": 3
   },
   "file_extension": ".py",
   "mimetype": "text/x-python",
   "name": "python",
   "nbconvert_exporter": "python",
   "pygments_lexer": "ipython3",
   "version": "3.11.4"
  }
 },
 "nbformat": 4,
 "nbformat_minor": 5
}
